{
 "cells": [
  {
   "cell_type": "markdown",
   "id": "fifteen-sailing",
   "metadata": {},
   "source": [
    "# Лабораторная работа №4\n",
    "## Выполнил студент группы ГОРОХОВ КИРИЛЛ ИГОРЕВИЧ БФИ2001"
   ]
  },
  {
   "cell_type": "markdown",
   "id": "arctic-stocks",
   "metadata": {},
   "source": [
    "Реализовать следующие структуры данных:\n",
    "  \n",
    "● <b> Стек (stack): </b>  \n",
    "Операции для стека: \n",
    "<i> инициализация, проверка на пустоту, добавление нового элемента в начало, извлечение элемента из начала;  </i>  \n",
    "  \n",
    "● <b> Дек (двусторонняя очередь, deque):  </b>  \n",
    "Операции для дека: \n",
    "<i> инициализация, проверка на пустоту, добавление нового элемента в начало, добавление нового элемента в конец, извлечение элемента из начала, извлечение элемента из конца. </i>  \n",
    "  \n",
    "<i> Разработать программу обработки данных, содержащихся в заранее подготовленном txt-файле, в соответствии с заданиями, применив указанную в задании структуру данных. Результат работы программы вывести на экран и сохранить в отдельном txt-файле. </i>"
   ]
  },
  {
   "cell_type": "markdown",
   "id": "5d7edb08",
   "metadata": {},
   "source": [
    "### Задание №1\n",
    "Отсортировать строки файла, содержащие названия книг, в алфавитном порядке с использованием двух деков."
   ]
  },
  {
   "cell_type": "code",
   "execution_count": 1,
   "id": "17702ade",
   "metadata": {},
   "outputs": [],
   "source": [
    "import random\n",
    "        \n",
    "class Stack:\n",
    "    def __init__(self): \n",
    "         self.items = []\n",
    "    \n",
    "    def empty(self): \n",
    "        return self.items == []\n",
    "    \n",
    "    def push(self, item): \n",
    "        self.items.append(item)\n",
    "        \n",
    "    def pop(self): \n",
    "        return self.items.pop()\n",
    "    \n",
    "    def pop_without_delete(self): \n",
    "        return self.items[len(self.items) - 1]\n",
    "    \n",
    "    def size(self): \n",
    "        return len(self.items)\n",
    "        \n",
    "class Deque:\n",
    "    \n",
    "    def __init__(self):\n",
    "        self.items = []\n",
    "    \n",
    "    def pushRight(self, item): \n",
    "        self.items.append(item)\n",
    "        \n",
    "    def pushLeft(self, item): \n",
    "        self.items.insert(0, item)\n",
    "    \n",
    "    def popRight(self): \n",
    "        return self.items.pop()\n",
    "    \n",
    "    def popLeft(self): \n",
    "        return self.items.pop(0)\n",
    "    \n",
    "    def popRight_without_delete(self): \n",
    "        return self.items[len(self.items) - 1]\n",
    "    \n",
    "    def popLeft_without_delete(self):\n",
    "        return self.items[0]\n",
    "    \n",
    "    def empty(self): \n",
    "        return self.items == []\n",
    "    \n",
    "    def size(self): \n",
    "        return len(self.items)\n",
    "    "
   ]
  },
  {
   "cell_type": "code",
   "execution_count": 2,
   "id": "bf516203-7296-4279-9e58-995b392fbd91",
   "metadata": {},
   "outputs": [
    {
     "name": "stdout",
     "output_type": "stream",
     "text": [
      "Divine Comedy\n",
      "\n",
      "Faust\n",
      "\n",
      "Gertrude\n",
      "\n",
      "Idiot\n",
      "\n",
      "Macbeth\n",
      "\n",
      "The Master and Margarita\n",
      "\n",
      "The sufferings of young Werther\n",
      "\n"
     ]
    }
   ],
   "source": [
    "def Sort_by_alphabet():\n",
    "    with open('Books.txt', 'r') as books:\n",
    "        FirstDeque = Deque()\n",
    "        SecondDeque = Deque()\n",
    "        for el in books:\n",
    "            FirstDeque.pushRight(el)\n",
    "        while not FirstDeque.empty():\n",
    "            element = FirstDeque.popRight()\n",
    "            while not SecondDeque.empty() and SecondDeque.popRight_without_delete() > element:\n",
    "                FirstDeque.pushLeft(SecondDeque.popRight())\n",
    "            SecondDeque.pushRight(element)\n",
    "        while not SecondDeque.empty():\n",
    "            print(SecondDeque.popLeft())\n",
    "            \n",
    "Sort_by_alphabet()"
   ]
  },
  {
   "cell_type": "markdown",
   "id": "49fbd2a0",
   "metadata": {},
   "source": [
    "### Задание №2\n",
    "Дек содержит последовательность символов для шифровки сообщений. Дан текстовый файл, содержащий зашифрованное сообщение. Пользуясь деком, расшифровать текст. \n",
    "Известно, что при шифровке каждый символ сообщения заменялся следующим за ним в деке по часовой стрелке через один."
   ]
  },
  {
   "cell_type": "code",
   "execution_count": 3,
   "id": "81cab7a8",
   "metadata": {},
   "outputs": [
    {
     "name": "stdout",
     "output_type": "stream",
     "text": [
      "Зашифрованное сообщение: fqjju, 0uwja;\n",
      "Расшифрованное сообщение: hello, world!\n"
     ]
    }
   ],
   "source": [
    "def decode(file): \n",
    "    chars1 = list('qwertyuiopasdfghjklzxcvbnm-=;\"!<>/?1234567890')\n",
    "    d = Deque()\n",
    "    for element in chars1:\n",
    "        d.pushRight(element)\n",
    "    with open('sentence.txt', 'r') as sentence1:\n",
    "        sentence = sentence1.readline()\n",
    "        sentence = list(sentence)\n",
    "        sentence2 = \"\".join(sentence)\n",
    "        print(\"Зашифрованное сообщение:\", sentence2)\n",
    "        \n",
    "        for i in range(len(sentence)):\n",
    "            for j in range(d.size()):\n",
    "                element2 = d.popRight()\n",
    "                if element2 == sentence[i]:\n",
    "                    d.pushRight(element2)\n",
    "                    d.pushRight(d.popLeft())\n",
    "                    element2 = d.popLeft()\n",
    "                    sentence[i] = element2\n",
    "                d.pushLeft(element2)\n",
    "        sentence = \"\".join(sentence)\n",
    "        print(\"Расшифрованное сообщение:\", sentence)\n",
    "\n",
    "decode('sentence.txt')"
   ]
  },
  {
   "cell_type": "markdown",
   "id": "c0894f47",
   "metadata": {},
   "source": [
    "### Задание №3\n",
    "Даны три стержня и n дисков различного размера. Диски можно надевать на стержни, образуя из них башни. Перенести n дисков со стержня А на стержень С, сохранив их первоначальный порядок. При переносе дисков необходимо соблюдать следующие правила:\n",
    "- на каждом шаге со стержня на стержень переносить только один диск;\n",
    "- диск нельзя помещать на диск меньшего размера;\n",
    "- для промежуточного хранения можно использовать стержень В.\n",
    "Реализовать алгоритм, используя три стека вместо стержней А, В, С. Информация о дисках хранится в исходном файле."
   ]
  },
  {
   "cell_type": "code",
   "execution_count": 5,
   "id": "9e91a9d4",
   "metadata": {},
   "outputs": [
    {
     "name": "stdout",
     "output_type": "stream",
     "text": [
      "1\n",
      "2\n",
      "3\n",
      "4\n",
      "5\n",
      "6\n",
      "7\n",
      "8\n",
      "9\n",
      "10\n"
     ]
    }
   ],
   "source": [
    "def permutation(a, b):\n",
    "    if a.size() == 0 and b.size() > 0:\n",
    "        a.push(b.pop())\n",
    "    elif a.size() > 0 and b.size() == 0:\n",
    "        b.push(a.pop())\n",
    "    elif a.pop_without_delete() > b.pop_without_delete():\n",
    "        a.push(b.pop())\n",
    "    else:\n",
    "        b.push(a.pop())\n",
    "\n",
    "def Transef_disks(n):\n",
    "    A = Stack()\n",
    "    B = Stack()\n",
    "    C = Stack()\n",
    "    for i in range(n, 0, -1):\n",
    "        A.push(i)\n",
    "\n",
    "    if n % 2 == 0: \n",
    "        while C.size() != n:\n",
    "            permutation(A, B)\n",
    "            permutation(A, C)\n",
    "            permutation(B, C)\n",
    "    else:\n",
    "        while C.size() != n:\n",
    "            permutation(A, C)\n",
    "            permutation(A, B)\n",
    "            permutation(B, C)\n",
    "\n",
    "    while not C.empty():\n",
    "        print(C.pop())\n",
    "\n",
    "Transef_disks(10)"
   ]
  },
  {
   "cell_type": "markdown",
   "id": "e5b0be17",
   "metadata": {},
   "source": [
    "### Задание №4\n",
    "Дан текстовый файл с программой на алгоритмическом языке. За один просмотр файла проверить баланс круглых скобок в тексте, используя стек."
   ]
  },
  {
   "cell_type": "code",
   "execution_count": 6,
   "id": "5b1df60a",
   "metadata": {},
   "outputs": [
    {
     "name": "stdout",
     "output_type": "stream",
     "text": [
      "True\n",
      "False\n"
     ]
    }
   ],
   "source": [
    "def round_brackets(file):\n",
    "    with open(file) as brackets:\n",
    "        brackets_stack = Stack()\n",
    "        brackets1 = brackets.readline()\n",
    "        for element in brackets1:\n",
    "            if element == '(':\n",
    "                brackets_stack.push(element)\n",
    "            elif element == ')':\n",
    "                if brackets_stack.empty(): \n",
    "                    return False\n",
    "                brackets_stack.pop()\n",
    "        return brackets_stack.empty()\n",
    "\n",
    "print(round_brackets('roundbrackets.txt'))\n",
    "print(round_brackets('roundbrackets1.txt'))"
   ]
  },
  {
   "cell_type": "markdown",
   "id": "c44cdd6b",
   "metadata": {},
   "source": [
    "### Задание №5\n",
    "Дан текстовый файл с программой на алгоритмическом языке. За один просмотр файла проверить баланс квадратных скобок в тексте, используя дек."
   ]
  },
  {
   "cell_type": "code",
   "execution_count": 7,
   "id": "36b8f400",
   "metadata": {},
   "outputs": [
    {
     "name": "stdout",
     "output_type": "stream",
     "text": [
      "True\n",
      "False\n"
     ]
    }
   ],
   "source": [
    "def square_brackets(file):\n",
    "    with open(file) as brackets:\n",
    "        brackets_deque = Deque()\n",
    "        brackets1 = brackets.readline()\n",
    "        for element in brackets1:\n",
    "            if element == '[':\n",
    "                brackets_deque.pushRight(element)\n",
    "            elif element == ']':\n",
    "                if brackets_deque.empty(): \n",
    "                    return False\n",
    "                brackets_deque.popRight()\n",
    "        return brackets_deque.empty()\n",
    "\n",
    "print(square_brackets('squarebrackets.txt'))\n",
    "print(square_brackets('squarebrackets1.txt'))"
   ]
  },
  {
   "cell_type": "markdown",
   "id": "59d13dc7",
   "metadata": {},
   "source": [
    "### Задание №6\n",
    "Дан файл из символов. Используя стек, за один просмотр файла напечатать сначала все цифры, затем все буквы, и, наконец, все остальные символы, сохраняя исходный порядок в каждой группе символов."
   ]
  },
  {
   "cell_type": "code",
   "execution_count": 8,
   "id": "297e36c2",
   "metadata": {},
   "outputs": [
    {
     "name": "stdout",
     "output_type": "stream",
     "text": [
      "1\n",
      "2\n",
      "F\n",
      "i\n",
      "r\n",
      "s\n",
      "t\n",
      "S\n",
      "e\n",
      "c\n",
      "o\n",
      "n\n",
      "d\n",
      " \n",
      ",\n",
      " \n",
      " \n"
     ]
    }
   ],
   "source": [
    "def character_output(file):\n",
    "    with open(file) as sentence:\n",
    "        text = Stack()\n",
    "        numbers = Stack()\n",
    "        letters = Stack()\n",
    "        others = Stack()\n",
    "        sentence1 = sentence.readline()\n",
    "        for element in sentence1:\n",
    "            if element.isalpha():\n",
    "                letters.push(element)\n",
    "            elif element.isdigit():\n",
    "                numbers.push(element)\n",
    "            else:\n",
    "                others.push(element)\n",
    "        \n",
    "        while not others.empty():\n",
    "            text.push(others.pop())\n",
    "        while not letters.empty():\n",
    "            text.push(letters.pop())\n",
    "        while not numbers.empty():\n",
    "            text.push(numbers.pop())\n",
    "            \n",
    "        while not text.empty():\n",
    "            print(text.pop())\n",
    "            \n",
    "character_output('sentence_for_sixth_task.txt')"
   ]
  },
  {
   "cell_type": "markdown",
   "id": "973f68bd",
   "metadata": {},
   "source": [
    "### Задание №7\n",
    "Дан файл из целых чисел. Используя дек, за один просмотр файла напечатать сначала все отрицательные числа, затем все положительные числа, сохраняя исходный порядок в каждой группе."
   ]
  },
  {
   "cell_type": "code",
   "execution_count": 9,
   "id": "c56fad66",
   "metadata": {},
   "outputs": [
    {
     "name": "stdout",
     "output_type": "stream",
     "text": [
      "-10\n",
      "\n",
      "-10\n",
      "\n",
      "-9\n",
      "\n",
      "\n",
      " 4\n",
      "\n",
      " 2\n",
      "\n",
      " 13\n",
      "\n",
      " 3\n",
      "\n",
      " 2\n",
      "\n",
      " 7\n"
     ]
    }
   ],
   "source": [
    "def output_numbers(file):\n",
    "    with open(file) as numbers:\n",
    "        deque_of_numbers = Deque()\n",
    "        numbers_of_text = []\n",
    "        for element in numbers:\n",
    "            deque_of_numbers.pushLeft(element)\n",
    "        for i in range (deque_of_numbers.size()):\n",
    "            if (int)(deque_of_numbers.popRight_without_delete()) < 0:\n",
    "                print(deque_of_numbers.popRight())\n",
    "            else: \n",
    "                numbers_of_text.append((int)(deque_of_numbers.popRight()))\n",
    "        for i in numbers_of_text:\n",
    "            print(\"\\n\", i)\n",
    "\n",
    "output_numbers('numbers.txt')"
   ]
  },
  {
   "cell_type": "markdown",
   "id": "b9228191",
   "metadata": {},
   "source": [
    "### Задание №8\n",
    "Дан текстовый файл. Используя стек, сформировать новый текстовый файл, содержащий строки исходного файла, записанные в обратном порядке: первая строка становится последней, вторая – предпоследней и т.д."
   ]
  },
  {
   "cell_type": "code",
   "execution_count": 11,
   "id": "981fbdfe",
   "metadata": {},
   "outputs": [
    {
     "name": "stdout",
     "output_type": "stream",
     "text": [
      "Gertrude\n",
      "\n",
      "The sufferings of young Werther\n",
      "\n",
      "The Master and Margarita\n",
      "\n",
      "Macbeth\n",
      "\n",
      "Idiot\n",
      "\n",
      "Faust\n",
      "\n",
      "Divine Comedy\n",
      "\n"
     ]
    }
   ],
   "source": [
    "def reverse_order(file):\n",
    "    with open(file) as books:\n",
    "        Stack_of_books = Stack()\n",
    "        for element in books:\n",
    "            Stack_of_books.push(element)\n",
    "        books2 = open('Books.txt', 'w+')\n",
    "        for i in range (Stack_of_books.size()):\n",
    "            print(Stack_of_books.pop_without_delete())\n",
    "            books2.write(Stack_of_books.pop())\n",
    "        books2.close()\n",
    "\n",
    "reverse_order('Books.txt')"
   ]
  },
  {
   "cell_type": "markdown",
   "id": "rental-jerusalem",
   "metadata": {},
   "source": [
    "### Вывод\n"
   ]
  },
  {
   "cell_type": "markdown",
   "id": "0c2b8899",
   "metadata": {},
   "source": [
    "В ходе данной лабораторной работы, мы ознакомились со стеком и деком. Научились инициализировать стек и дек, а также познакомились с алгоритмами работы с ними. "
   ]
  }
 ],
 "metadata": {
  "kernelspec": {
   "display_name": "Python 3 (ipykernel)",
   "language": "python",
   "name": "python3"
  },
  "language_info": {
   "codemirror_mode": {
    "name": "ipython",
    "version": 3
   },
   "file_extension": ".py",
   "mimetype": "text/x-python",
   "name": "python",
   "nbconvert_exporter": "python",
   "pygments_lexer": "ipython3",
   "version": "3.9.7"
  }
 },
 "nbformat": 4,
 "nbformat_minor": 5
}
