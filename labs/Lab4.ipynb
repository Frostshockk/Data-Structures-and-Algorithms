{
 "cells": [
  {
   "cell_type": "markdown",
   "id": "fifteen-sailing",
   "metadata": {},
   "source": [
    "# Лабораторная работа №4\n",
    "## Выполнил студент группы ГОРОХОВ КИРИЛЛ ИГОРЕВИЧ БФИ2001"
   ]
  },
  {
   "cell_type": "markdown",
   "id": "arctic-stocks",
   "metadata": {},
   "source": [
    "Реализовать следующие структуры данных:\n",
    "  \n",
    "● <b> Стек (stack): </b>  \n",
    "Операции для стека: \n",
    "<i> инициализация, проверка на пустоту, добавление нового элемента в начало, извлечение элемента из начала;  </i>  \n",
    "  \n",
    "● <b> Дек (двусторонняя очередь, deque):  </b>  \n",
    "Операции для дека: \n",
    "<i> инициализация, проверка на пустоту, добавление нового элемента в начало, добавление нового элемента в конец, извлечение элемента из начала, извлечение элемента из конца. </i>  \n",
    "  \n",
    "<i> Разработать программу обработки данных, содержащихся в заранее подготовленном txt-файле, в соответствии с заданиями, применив указанную в задании структуру данных. Результат работы программы вывести на экран и сохранить в отдельном txt-файле. </i>"
   ]
  },
  {
   "cell_type": "markdown",
   "id": "5d7edb08",
   "metadata": {},
   "source": [
    "### Задание №1\n",
    "Отсортировать строки файла, содержащие названия книг, в алфавитном порядке с использованием двух деков."
   ]
  },
  {
   "cell_type": "code",
   "execution_count": 1,
   "id": "17702ade",
   "metadata": {},
   "outputs": [],
   "source": [
    "import random\n",
    "\n",
    "class LinkedNode:\n",
    "    def __init__(self, value=None):\n",
    "        self.value = value\n",
    "        self.right = None\n",
    "        self.left = None\n",
    "        \n",
    "class Stack:\n",
    "#инициализация\n",
    "    def __init__(self):\n",
    "        self.head = LinkedNode()\n",
    "        self.size = 0\n",
    "# очистка\n",
    "    def is_empty(self):\n",
    "        return self.size == 0\n",
    "    \n",
    "    \n",
    "#Добавить обьект на вершину стека\n",
    "    def push(self, value):\n",
    "        if self.size > 0:\n",
    "#Создаем контейнер ля эл\n",
    "            node = LinkedNode(value)\n",
    "#эл справа присваиваем голову  \n",
    "            node.right = self.head\n",
    "# присваиваем новое значение голове \n",
    "            self.head = node\n",
    "        else:\n",
    "#присваиваем значение,меняем размер \n",
    "            self.head.value = value\n",
    "        self.size += 1\n",
    "        \n",
    "        \n",
    "# возвращает обьект с вершины и удаляет   \n",
    "    def pop(self):\n",
    "# Проверка на пустоту \n",
    "        if self.is_empty():\n",
    "            raise Exception(\" \")\n",
    "#приваиваем значение головы\n",
    "        remove = self.head\n",
    "        if self.size > 1:\n",
    "#присваиваем голове эл справа от предыдущей головы \n",
    "# 7 4 3 5 - голова 4 \n",
    "            self.head = remove.right\n",
    "        self.size -= 1\n",
    "#возвращаем начальное значение\n",
    "        return remove.value\n",
    "    \n",
    "# возвращает обьект с вершины     \n",
    "    def peek(self):\n",
    "        if self.is_empty():\n",
    "            raise Exception(\" \")\n",
    "        return self.head.value\n",
    "    \n",
    "#возвращает длину стека    \n",
    "    def __len__(self):\n",
    "        return self.size\n",
    "#наоборот    \n",
    "    def reverse(self):\n",
    "#голова предыдущ след\n",
    "        current = self.head\n",
    "        prev = None\n",
    "        next = None\n",
    "#пока есть элементы  \n",
    "        while current is not None:\n",
    "            next = current.right\n",
    "            current.right = prev\n",
    "            prev = current\n",
    "            current = next\n",
    "\n",
    "        self.head = prev\n",
    "        \n",
    "class Deque:\n",
    "    def __init__(self):\n",
    "        self.head = LinkedNode()\n",
    "        self.tail = self.head\n",
    "        self.size = 0\n",
    "    \n",
    "    def is_empty(self):\n",
    "        return self.size == 0\n",
    "\n",
    "    def push_left(self, value):\n",
    "        if self.size > 0:\n",
    "            node = LinkedNode(value)\n",
    "            node.right = self.tail\n",
    "            self.tail.left = node\n",
    "            self.tail = node\n",
    "        else:\n",
    "            self.tail.value = value\n",
    "        self.size += 1\n",
    "\n",
    "    def push(self, value):\n",
    "        if self.size > 0:\n",
    "            node = LinkedNode(value)\n",
    "            node.left = self.head\n",
    "            self.head.right = node\n",
    "            self.head = node\n",
    "        else:\n",
    "            self.head.value = value\n",
    "        self.size += 1\n",
    "    \n",
    "    def pop_left(self):\n",
    "        if self.is_empty():\n",
    "            raise Exception(\" \")\n",
    "        remove = self.tail\n",
    "        if self.size > 1:\n",
    "            self.tail = remove.right\n",
    "        self.size -= 1\n",
    "        return remove.value\n",
    "    \n",
    "    def pop(self):\n",
    "        if self.is_empty():\n",
    "            raise Exception(\" \")\n",
    "        remove = self.head\n",
    "        if self.size > 1:\n",
    "            self.head = remove.left\n",
    "        self.size -= 1\n",
    "        return remove.value\n",
    "    \n",
    "    def peek(self):\n",
    "        if self.is_empty():\n",
    "            raise Exception(\" \")\n",
    "        return self.head.value\n",
    "    \n",
    "    def peek_left(self):\n",
    "        if self.is_empty():\n",
    "            raise Exception(\" \")\n",
    "        return self.tail.value\n",
    "\n",
    "    def __len__(self):\n",
    "        return self.size\n",
    "    "
   ]
  },
  {
   "cell_type": "code",
   "execution_count": 2,
   "id": "bf516203-7296-4279-9e58-995b392fbd91",
   "metadata": {},
   "outputs": [
    {
     "name": "stdout",
     "output_type": "stream",
     "text": [
      "Divine Comedy\n",
      "\n",
      "Faust\n",
      "\n",
      "Gertrude\n",
      "\n",
      "Idiot\n",
      "\n",
      "Macbeth\n",
      "\n",
      "The Master and Margarita\n",
      "\n",
      "The sufferings of young Werther\n",
      "\n"
     ]
    }
   ],
   "source": [
    "def Sort_by_alphabet():\n",
    "    with open('Books.txt', 'r') as books:\n",
    "        FirstDeque = Deque()\n",
    "        SecondDeque = Deque()\n",
    "        for line in books:\n",
    "            FirstDeque.push(line)\n",
    "        while not FirstDeque.is_empty():\n",
    "            x = FirstDeque.pop()\n",
    "            while not SecondDeque.is_empty() and SecondDeque.peek() < x:\n",
    "                FirstDeque.push_left(SecondDeque.pop())\n",
    "            SecondDeque.push(x)\n",
    "        while not SecondDeque.is_empty():\n",
    "            print(SecondDeque.pop())\n",
    "Sort_by_alphabet()"
   ]
  },
  {
   "cell_type": "markdown",
   "id": "49fbd2a0",
   "metadata": {},
   "source": [
    "### Задание №2\n",
    "Дек содержит последовательность символов для шифровки сообщений. Дан текстовый файл, содержащий зашифрованное сообщение. Пользуясь деком, расшифровать текст. \n",
    "Известно, что при шифровке каждый символ сообщения заменялся следующим за ним в деке по часовой стрелке через один."
   ]
  },
  {
   "cell_type": "code",
   "execution_count": 3,
   "id": "81cab7a8",
   "metadata": {},
   "outputs": [
    {
     "name": "stdout",
     "output_type": "stream",
     "text": [
      "cbxaqwimykroupsldgvnzhftje\n",
      "Закодированный текст:\n",
      "fcddu iuodg\n",
      "Раскодированный текст:\n",
      "hello world\n"
     ]
    }
   ],
   "source": [
    "def encode_char(c): \n",
    "    for i in range(len(keyRing)):\n",
    "        x = keyRing.pop_left()\n",
    "        if x == c:\n",
    "            keyRing.push(x)\n",
    "            val = keyRing.pop_left()\n",
    "            keyRing.push(val)\n",
    "            return val\n",
    "        keyRing.push(x)\n",
    "\n",
    "def decode_char(c):\n",
    "    for i in range(len(keyRing)):\n",
    "        x = keyRing.pop()\n",
    "        if x == c:\n",
    "            keyRing.push_left(x)\n",
    "            val = keyRing.pop()\n",
    "            keyRing.push_left(val)\n",
    "            return val\n",
    "        keyRing.push_left(x)\n",
    "        \n",
    "        \n",
    "alphabet = list('abcdefghijklmnopqrstuvwxyz')\n",
    "random.shuffle(alphabet)\n",
    "alphabet = ''.join(alphabet)\n",
    "print(alphabet)\n",
    "keyRing = Deque()\n",
    "for letter in alphabet:\n",
    "    keyRing.push(letter)\n",
    "    \n",
    "def decryption():\n",
    "    text = 'hello world'.lower()\n",
    "#зашифровка\n",
    "    encoded = ''\n",
    "    for letter in text:\n",
    "        if encoded_letter := encode_char(letter):\n",
    "            encoded += encoded_letter\n",
    "        else:\n",
    "            encoded += letter\n",
    "    print('Закодированный текст:')\n",
    "    print(encoded)\n",
    "    print('Раскодированный текст:')\n",
    "    decoded = ''\n",
    "#расшифровка\n",
    "    for letter in encoded:\n",
    "        if decoded_letter := decode_char(letter):\n",
    "            decoded += decoded_letter\n",
    "        else:\n",
    "            decoded += letter\n",
    "    print(decoded)\n",
    "    \n",
    "decryption()"
   ]
  },
  {
   "cell_type": "markdown",
   "id": "c0894f47",
   "metadata": {},
   "source": [
    "### Задание №3\n",
    "Даны три стержня и n дисков различного размера. Диски можно надевать на стержни, образуя из них башни. Перенести n дисков со стержня А на стержень С, сохранив их первоначальный порядок. При переносе дисков необходимо соблюдать следующие правила:\n",
    "- на каждом шаге со стержня на стержень переносить только один диск;\n",
    "- диск нельзя помещать на диск меньшего размера;\n",
    "- для промежуточного хранения можно использовать стержень В.\n",
    "Реализовать алгоритм, используя три стека вместо стержней А, В, С. Информация о дисках хранится в исходном файле."
   ]
  },
  {
   "cell_type": "code",
   "execution_count": 4,
   "id": "9e91a9d4",
   "metadata": {},
   "outputs": [
    {
     "name": "stdout",
     "output_type": "stream",
     "text": [
      "1\n",
      "2\n",
      "3\n",
      "4\n",
      "5\n",
      "6\n",
      "7\n",
      "8\n",
      "9\n"
     ]
    }
   ],
   "source": [
    "FirstStack = Stack()\n",
    "SecondStack = Stack()\n",
    "ThirdStack = Stack()\n",
    "disks = 9\n",
    "for i in range(disks, 0, -1):\n",
    "    FirstStack.push(i)\n",
    "    \n",
    "def move(a, b):\n",
    "    if len(a) == 0 and len(b) > 0:\n",
    "        a.push(b.pop())\n",
    "    elif len(a) > 0 and len(b) == 0:\n",
    "        b.push(a.pop())\n",
    "    elif a.peek() > b.peek():\n",
    "        a.push(b.pop())\n",
    "    else:\n",
    "        b.push(a.pop())\n",
    "        \n",
    "def Transferring_disks(FirstStack,SecondStack,ThirdStack):\n",
    "    if disks % 2 == 0:\n",
    "        while len(ThirdStack) != disks:\n",
    "            move(FirstStack, SecondStack)\n",
    "            move(FirstStack, ThirdStack)\n",
    "            move(SecondStack, ThirdStack)\n",
    "    else:\n",
    "        while len(ThirdStack) != disks:\n",
    "            move(FirstStack, ThirdStack)\n",
    "            move(FirstStack, SecondStack)\n",
    "            move(ThirdStack, SecondStack)\n",
    "            move(FirstStack, ThirdStack)\n",
    "            move(SecondStack, FirstStack)\n",
    "            move(SecondStack, ThirdStack)\n",
    "            move(FirstStack, ThirdStack)\n",
    "    while not ThirdStack.is_empty():\n",
    "        print(ThirdStack.pop())\n",
    "Transferring_disks(FirstStack,SecondStack,ThirdStack)"
   ]
  },
  {
   "cell_type": "markdown",
   "id": "e5b0be17",
   "metadata": {},
   "source": [
    "### Задание №4\n",
    "Дан текстовый файл с программой на алгоритмическом языке. За один просмотр файла проверить баланс круглых скобок в тексте, используя стек."
   ]
  },
  {
   "cell_type": "code",
   "execution_count": 5,
   "id": "5b1df60a",
   "metadata": {},
   "outputs": [
    {
     "name": "stdout",
     "output_type": "stream",
     "text": [
      "False\n",
      "True\n"
     ]
    }
   ],
   "source": [
    "def check_brackets(string):\n",
    "    bracket_stack = Stack()\n",
    "    for i in string:\n",
    "        if i == '(':\n",
    "            bracket_stack.push(i)\n",
    "        elif i == ')':\n",
    "            if bracket_stack.is_empty():\n",
    "                return False\n",
    "            bracket_stack.pop()\n",
    "    return bracket_stack.is_empty()\n",
    "\n",
    "print(check_brackets('()())((())(()(())'))\n",
    "print(check_brackets('(()())()()()(()(()(())()))'))"
   ]
  },
  {
   "cell_type": "markdown",
   "id": "c44cdd6b",
   "metadata": {},
   "source": [
    "### Задание №5\n",
    "Дан текстовый файл с программой на алгоритмическом языке. За один просмотр файла проверить баланс квадратных скобок в тексте, используя дек."
   ]
  },
  {
   "cell_type": "code",
   "execution_count": 11,
   "id": "36b8f400",
   "metadata": {},
   "outputs": [
    {
     "name": "stdout",
     "output_type": "stream",
     "text": [
      "False\n",
      "True\n"
     ]
    }
   ],
   "source": [
    "def check_square_brackets(string):\n",
    "    bracket_deque = Deque()\n",
    "    for i in string:\n",
    "        if i == '[':\n",
    "            bracket_deque.push(i)\n",
    "        elif i == ']':\n",
    "            if bracket_deque.is_empty():\n",
    "                return False\n",
    "            bracket_deque.pop()\n",
    "    return bracket_deque.is_empty()\n",
    "\n",
    "print(check_square_brackets('[][[][[[[]][[]]]]]]'))\n",
    "print(check_square_brackets('[[][][][[][]][][[][]]][]'))"
   ]
  },
  {
   "cell_type": "markdown",
   "id": "59d13dc7",
   "metadata": {},
   "source": [
    "### Задание №6\n",
    "Дан файл из символов. Используя стек, за один просмотр файла напечатать сначала все цифры, затем все буквы, и, наконец, все остальные символы, сохраняя исходный порядок в каждой группе символов."
   ]
  },
  {
   "cell_type": "code",
   "execution_count": 7,
   "id": "297e36c2",
   "metadata": {},
   "outputs": [
    {
     "name": "stdout",
     "output_type": "stream",
     "text": [
      "321Раздватри,, .\n"
     ]
    }
   ],
   "source": [
    "def Output_Digit_letter_others():\n",
    "    text = 'Раз,два,три 321.'\n",
    "    letters = Stack()\n",
    "    digits = Stack()\n",
    "    others = Stack()\n",
    "\n",
    "    for c in text:\n",
    "        if c.isalpha():\n",
    "            letters.push(c)\n",
    "        elif c.isdigit():\n",
    "            digits.push(c)\n",
    "        else:\n",
    "            others.push(c)\n",
    "    new_text = ''\n",
    "    \n",
    "    letters.reverse()\n",
    "    digits.reverse()\n",
    "    others.reverse()\n",
    "\n",
    "    while not digits.is_empty():\n",
    "        new_text += digits.pop()\n",
    "    while not letters.is_empty():\n",
    "        new_text += letters.pop()\n",
    "    while not others.is_empty():\n",
    "        new_text += others.pop()\n",
    "\n",
    "    print(new_text)\n",
    "Output_Digit_letter_others()"
   ]
  },
  {
   "cell_type": "markdown",
   "id": "973f68bd",
   "metadata": {},
   "source": [
    "### Задание №7\n",
    "Дан файл из целых чисел. Используя дек, за один просмотр файла напечатать сначала все отрицательные числа, затем все положительные числа, сохраняя исходный порядок в каждой группе."
   ]
  },
  {
   "cell_type": "code",
   "execution_count": 8,
   "id": "c56fad66",
   "metadata": {},
   "outputs": [
    {
     "name": "stdout",
     "output_type": "stream",
     "text": [
      "[-10, 5, 3, -10, 10, 8, 4, -1, 5, -8]\n",
      "-10\n",
      "-10\n",
      "-1\n",
      "-8\n",
      "5\n",
      "3\n",
      "10\n",
      "8\n",
      "4\n",
      "5\n"
     ]
    }
   ],
   "source": [
    "numbers = [random.randint(-10, 10) for i in range(10)]\n",
    "print(numbers)\n",
    "\n",
    "deque = Deque() \n",
    "for n in numbers:\n",
    "    if n < 0:\n",
    "        deque.push_left(n)\n",
    "    else:\n",
    "        deque.push(n)\n",
    "        \n",
    "while not deque.is_empty():\n",
    "    x = deque.pop_left()\n",
    "    if x < 0:\n",
    "        deque.push(x)\n",
    "    else:\n",
    "        deque.push_left(x)\n",
    "        break\n",
    "\n",
    "while not deque.is_empty():\n",
    "    x = deque.pop()\n",
    "    if x < 0:\n",
    "        print(x)\n",
    "    else:\n",
    "        deque.push(x)\n",
    "        break\n",
    "while not deque.is_empty():\n",
    "    print(deque.pop_left())"
   ]
  },
  {
   "cell_type": "markdown",
   "id": "b9228191",
   "metadata": {},
   "source": [
    "### Задание №8\n",
    "Дан текстовый файл. Используя стек, сформировать новый текстовый файл, содержащий строки исходного файла, записанные в обратном порядке: первая строка становится последней, вторая – предпоследней и т.д."
   ]
  },
  {
   "cell_type": "code",
   "execution_count": 9,
   "id": "981fbdfe",
   "metadata": {},
   "outputs": [
    {
     "name": "stdout",
     "output_type": "stream",
     "text": [
      "Divine Comedy\n",
      "Faust\n",
      "Idiot\n",
      "Macbeth\n",
      "The Master and Margarita\n",
      "The sufferings of young Werther\n",
      "Gertrude\n",
      "\n",
      "Gertrude\n",
      "The sufferings of young Werther\n",
      "The Master and Margarita\n",
      "Macbeth\n",
      "Idiot\n",
      "Faust\n",
      "Divine Comedy\n"
     ]
    }
   ],
   "source": [
    "def Reverse_Line():\n",
    "    with open('Books.txt', 'r') as books:\n",
    "        stack = Stack()\n",
    "        for line in books:\n",
    "            line = line.strip()\n",
    "            print(line)\n",
    "            stack.push(line)\n",
    "        print()\n",
    "        while not stack.is_empty():\n",
    "            print(stack.pop())\n",
    "Reverse_Line()"
   ]
  },
  {
   "cell_type": "markdown",
   "id": "rental-jerusalem",
   "metadata": {},
   "source": [
    "### Вывод\n"
   ]
  },
  {
   "cell_type": "markdown",
   "id": "0c2b8899",
   "metadata": {},
   "source": [
    "В ходе данной лабораторной работы, мы ознакомились со стеком и деком. Научились инициализировать стек и дек, а также познакомились с алгоритмами работы с ними. "
   ]
  }
 ],
 "metadata": {
  "kernelspec": {
   "display_name": "Python 3 (ipykernel)",
   "language": "python",
   "name": "python3"
  },
  "language_info": {
   "codemirror_mode": {
    "name": "ipython",
    "version": 3
   },
   "file_extension": ".py",
   "mimetype": "text/x-python",
   "name": "python",
   "nbconvert_exporter": "python",
   "pygments_lexer": "ipython3",
   "version": "3.9.7"
  }
 },
 "nbformat": 4,
 "nbformat_minor": 5
}
