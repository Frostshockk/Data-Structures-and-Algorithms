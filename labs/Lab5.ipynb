{
 "cells": [
  {
   "cell_type": "markdown",
   "metadata": {
    "id": "WPvB9TcMmKA6"
   },
   "source": [
    "# Лабораторная работа №5\n",
    "# Рекурсия. Фракталы."
   ]
  },
  {
   "cell_type": "markdown",
   "metadata": {
    "id": "96Gi_LEvmSVH"
   },
   "source": [
    "## Выполнил студент группы Горохов Кирилл Игоревич БФИ2001\n",
    "***"
   ]
  },
  {
   "cell_type": "markdown",
   "metadata": {
    "id": "4clYOyb0mbEv"
   },
   "source": [
    "### Задание:\n",
    "Реализовать генерацию заданного типа фрактала с применением рекурсивных функций.\n",
    "\n",
    "\n",
    "Добавить возможность задания глубины фрактала. \n",
    "\n",
    "\n",
    "Оценить глубину рекурсии. \n",
    "\n",
    "\n",
    "Построить таблицу зависимости времени построения от глубины фрактала."
   ]
  },
  {
   "cell_type": "markdown",
   "metadata": {
    "id": "wDXHbUmMmhRL"
   },
   "source": [
    "### Список фракталов:\n",
    "\n",
    "Кривая Коха\n",
    "| Кривая Гильберта\n",
    "| Кривая Серпинского\n",
    "| Салфетка Серпинского\n",
    "| Ковер Серпинского\n",
    "| Дерево Пифагора "
   ]
  },
  {
   "cell_type": "markdown",
   "metadata": {
    "id": "Wggfn8l7nG72"
   },
   "source": [
    "### Выполнение:"
   ]
  },
  {
   "cell_type": "code",
   "execution_count": 1,
   "metadata": {
    "id": "681a95mZnOSa"
   },
   "outputs": [],
   "source": [
    "import turtle\n",
    "from datetime import datetime as t"
   ]
  },
  {
   "cell_type": "code",
   "execution_count": 2,
   "metadata": {},
   "outputs": [],
   "source": [
    "#Отрисовка фракталов\n",
    "\n",
    "def drawing(size, angle, line):  \n",
    "    for sym in line:\n",
    "        if sym == \"F\":\n",
    "            turtle.forward(size)\n",
    "        elif sym == \"+\":\n",
    "            turtle.right(angle)\n",
    "        elif sym == \"-\":\n",
    "            turtle.left(angle)\n",
    "\n",
    "def drawing_pythagorean_tree(size, angle, line):\n",
    "    stack = []\n",
    "    for sym in line:\n",
    "        if sym == \"0\":\n",
    "            turtle.forward(size)\n",
    "        elif sym == \"1\":\n",
    "            turtle.forward(size)\n",
    "        elif sym == \"[\":\n",
    "            stack.append(turtle.position())\n",
    "            stack.append(turtle.heading())\n",
    "            turtle.left(angle)\n",
    "        else:\n",
    "            turtle.penup()\n",
    "            turtle.setheading(stack.pop())\n",
    "            turtle.setposition(stack.pop())\n",
    "            turtle.pendown()\n",
    "            turtle.right(angle)"
   ]
  },
  {
   "cell_type": "code",
   "execution_count": 3,
   "metadata": {},
   "outputs": [
    {
     "name": "stdout",
     "output_type": "stream",
     "text": [
      "Введите глубину фрактала: 3\n",
      "Кривая Коха с глубиной =  0 Время отрисовки:  47920 ms\n",
      "Кривая Коха с глубиной =  1 Время отрисовки:  125920 ms\n",
      "Кривая Коха с глубиной =  2 Время отрисовки:  567536 ms\n",
      "Кривая Коха с глубиной =  3 Время отрисовки:  338875 ms\n"
     ]
    }
   ],
   "source": [
    "#Кривая Коха\n",
    "\n",
    "turtle.TurtleScreen._RUNNING=True\n",
    "n = int(input('Введите глубину фрактала: '))\n",
    "angle = 60\n",
    "axiom = \"F\"\n",
    "size = 10\n",
    "\n",
    "rules = {\"F\":\"F-F++F-F\"}\n",
    "def draw_koch(n, axiom):\n",
    "    if n == 0:\n",
    "        return axiom\n",
    "    else:\n",
    "        res_str = \"\"\n",
    "        for i in axiom:\n",
    "            if i == \"+\":\n",
    "                res_str = res_str + \"+\"\n",
    "            elif i == \"-\":\n",
    "                res_str = res_str + \"-\"\n",
    "            else:\n",
    "                res_str = res_str + rules[i]\n",
    "        return draw_koch(n-1, res_str)    \n",
    "\n",
    "for i in range(n+1):\n",
    "    turtle.reset()\n",
    "    turtle.hideturtle()\n",
    "    turtle.color('blue')\n",
    "    turtle.width(3)\n",
    "    turtle.speed(0)\n",
    "    turtle.screensize(canvwidth=900, canvheight=900)\n",
    "\n",
    "    time1 = t.now()\n",
    "    res_line = draw_koch(i, axiom)\n",
    "    drawing(size, angle, res_line)\n",
    "    time2 = t.now()\n",
    "    \n",
    "    print(\"Кривая Коха с глубиной = \", i, \"Время отрисовки: \", \"{0} ms\".format((time2 - time1).microseconds))\n",
    "\n",
    "turtle.exitonclick()"
   ]
  },
  {
   "cell_type": "code",
   "execution_count": 4,
   "metadata": {},
   "outputs": [
    {
     "name": "stdout",
     "output_type": "stream",
     "text": [
      "Введите глубину фрактала: 3\n",
      "Кривая Гильберта с глубиной =  0 Время построения:  : 0 ms\n",
      "Кривая Гильберта с глубиной =  1 Время построения:  : 111902 ms\n",
      "Кривая Гильберта с глубиной =  2 Время построения:  : 553489 ms\n",
      "Кривая Гильберта с глубиной =  3 Время построения:  : 317921 ms\n"
     ]
    }
   ],
   "source": [
    "#Кривая Гильберта\n",
    "turtle.TurtleScreen._RUNNING=True\n",
    "\n",
    "n = int(input('Введите глубину фрактала: '))\n",
    "angle = 90\n",
    "axiom = \"A\"\n",
    "size = 10\n",
    "rules = {\"A\":\"-BF+AFA+FB-\", \"B\":\"+AF-BFB-FA+\"}\n",
    "    \n",
    "def draw_hilbert(n, axiom):\n",
    "    if n == 0:\n",
    "        return axiom\n",
    "    else:\n",
    "        res_str = \"\"\n",
    "        for i in axiom:\n",
    "            if i == \"+\":\n",
    "                res_str = res_str + \"+\"\n",
    "            elif i == \"-\":\n",
    "                res_str = res_str + \"-\"\n",
    "            elif i == \"F\":\n",
    "                res_str = res_str + \"F\"\n",
    "            else:\n",
    "                res_str = res_str+rules[i]\n",
    "        return draw_hilbert(n-1, res_str)\n",
    "    \n",
    "for i in range(n+1):\n",
    "    turtle.reset()\n",
    "    turtle.hideturtle()\n",
    "    turtle.color('blue')\n",
    "    turtle.width(3)\n",
    "    turtle.speed(0)\n",
    "    turtle.screensize(canvwidth=900, canvheight=900)\n",
    "    time1 = t.now()\n",
    "    res_line = draw_hilbert(i, axiom)\n",
    "    drawing(size, angle, res_line)\n",
    "    time2 = t.now()\n",
    "    \n",
    "    print(\"Кривая Гильберта с глубиной = \", i, \"Время построения: \" , \":\", \"{0} ms\".format((time2 - time1).microseconds))\n",
    "\n",
    "turtle.exitonclick()"
   ]
  },
  {
   "cell_type": "code",
   "execution_count": 5,
   "metadata": {},
   "outputs": [
    {
     "name": "stdout",
     "output_type": "stream",
     "text": [
      "Глубина фрактала: 3\n",
      "Кривая Серпинского с глубиной =  0 Время построения:  : 123907 ms\n",
      "Кривая Серпинского с глубиной =  1 Время построения:  : 609469 ms\n",
      "Кривая Серпинского с глубиной =  2 Время построения:  : 626660 ms\n",
      "Кривая Серпинского с глубиной =  3 Время построения:  : 684474 ms\n"
     ]
    }
   ],
   "source": [
    "#Кривая Серпинского\n",
    "\n",
    "turtle.TurtleScreen._RUNNING=True\n",
    "\n",
    "n = int(input('Глубина фрактала: '))\n",
    "size = 5\n",
    "angle = 90\n",
    "axiom = \"F-XF-F-XF\"\n",
    "rules = {\"X\":\"XF+F-F+XF-F-XF+F-F+X\"}\n",
    "    \n",
    "def draw_sierpinski(n, axiom):\n",
    "    if n == 0:\n",
    "        return axiom\n",
    "    else:\n",
    "        res_str = \"\"\n",
    "        for i in axiom:\n",
    "            if i == \"+\":\n",
    "                res_str = res_str + \"+\"\n",
    "            elif i == \"-\":\n",
    "                res_str = res_str + \"-\"\n",
    "            elif i == \"F\":\n",
    "                res_str = res_str + \"F\"\n",
    "            else:\n",
    "                res_str = res_str + rules[i]\n",
    "        return draw_sierpinski(n-1, res_str)    \n",
    "    \n",
    "for i in range(n+1):\n",
    "    turtle.reset()\n",
    "    turtle.hideturtle()\n",
    "    turtle.color('red')\n",
    "    turtle.width(3)\n",
    "    turtle.speed(0)\n",
    "    turtle.screensize(canvwidth=900, canvheight=900)\n",
    "\n",
    "    time1 = t.now()\n",
    "    res_line = draw_sierpinski(i, axiom)\n",
    "    drawing(size, angle, res_line)\n",
    "    time2 = t.now()\n",
    "    \n",
    "    print(\"Кривая Серпинского с глубиной = \", i, \"Время построения: \" , \":\", \"{0} ms\".format((time2 - time1).microseconds))\n",
    "\n",
    "turtle.exitonclick()"
   ]
  },
  {
   "cell_type": "code",
   "execution_count": 6,
   "metadata": {},
   "outputs": [
    {
     "name": "stdout",
     "output_type": "stream",
     "text": [
      "Глубина фрактала: 3\n",
      "Салфетка Серпинского с глубиной =  0 Время построения:  : 155844 ms\n",
      "Салфетка Серпинского с глубиной =  1 Время построения:  : 474621 ms\n",
      "Салфетка Серпинского с глубиной =  2 Время построения:  : 416739 ms\n",
      "Салфетка Серпинского с глубиной =  3 Время построения:  : 242265 ms\n"
     ]
    }
   ],
   "source": [
    "#Салфетка Серпинского\n",
    "\n",
    "turtle.TurtleScreen._RUNNING=True\n",
    "\n",
    "n = int(input('Глубина фрактала: '))\n",
    "size = 10\n",
    "angle = 120\n",
    "axiom = \"FGF++FF++FF\"\n",
    "rules = {\"F\":\"FF\", \"G\":\"++FGF--FGF--FGF++\"}\n",
    "    \n",
    "def create_sierpinskis_paper(n, axiom):\n",
    "    if n == 0:\n",
    "        return axiom\n",
    "    else:\n",
    "        res_str = \"\"\n",
    "        for i in axiom:\n",
    "            if i == \"+\":\n",
    "                res_str = res_str + \"+\"\n",
    "            elif i == \"-\":\n",
    "                res_str = res_str + \"-\"\n",
    "            else:\n",
    "                res_str = res_str+rules[i]\n",
    "        return create_sierpinskis_paper(n-1, res_str)\n",
    "    \n",
    "for i in range(n+1):\n",
    "    turtle.reset()\n",
    "    turtle.hideturtle()\n",
    "    turtle.color('pink')\n",
    "    turtle.width(3)\n",
    "    turtle.screensize(canvwidth=900, canvheight=900)\n",
    "    turtle.speed(0)\n",
    "\n",
    "    time1 = t.now()\n",
    "    res_line = create_sierpinskis_paper(i, axiom)\n",
    "    drawing(size, angle, res_line)\n",
    "    time2 = t.now()\n",
    "    \n",
    "    print(\"Салфетка Серпинского с глубиной = \", i, \"Время построения: \" , \":\", \"{0} ms\".format((time2 - time1).microseconds))\n",
    "\n",
    "turtle.exitonclick()"
   ]
  },
  {
   "cell_type": "code",
   "execution_count": 7,
   "metadata": {},
   "outputs": [
    {
     "name": "stdout",
     "output_type": "stream",
     "text": [
      "Глубина фрактала: 3\n",
      "Ковер Серпинского с глубиной =  0 Время построения:  : 0 ms\n",
      "Ковер Серпинского с глубиной =  1 Время построения:  : 375682 ms\n",
      "Ковер Серпинского с глубиной =  2 Время построения:  : 641714 ms\n",
      "Ковер Серпинского с глубиной =  3 Время построения:  : 608717 ms\n"
     ]
    }
   ],
   "source": [
    "# Ковер Серпинского\n",
    "\n",
    "turtle.TurtleScreen._RUNNING=True\n",
    "\n",
    "n = int(input('Глубина фрактала: '))\n",
    "size = 10\n",
    "angle = 90\n",
    "axiom = \"G\"\n",
    "rules = {\"F\":\"FFF\", \"G\":\"GFGFG-F+G-F+G--F--G--F--G+F-G+F-\"}\n",
    "    \n",
    "def draw_sierpinskis_carpet(n, axiom):\n",
    "    if n == 0:\n",
    "        return axiom\n",
    "    else:\n",
    "        res_str = \"\"\n",
    "        for i in axiom:\n",
    "            if i == \"+\":\n",
    "                res_str = res_str + \"+\"\n",
    "            elif i == \"-\":\n",
    "                res_str = res_str + \"-\"\n",
    "            else:\n",
    "                res_str = res_str+rules[i]\n",
    "        return draw_sierpinskis_carpet(n-1, res_str)\n",
    "    \n",
    "for i in range(n+1):\n",
    "    turtle.reset()\n",
    "    turtle.hideturtle()\n",
    "    turtle.color('orange')\n",
    "    turtle.width(15)\n",
    "    turtle.screensize(canvwidth=900, canvheight=900)\n",
    "    turtle.speed(0)\n",
    "\n",
    "    time1 = t.now()\n",
    "    res_line = draw_sierpinskis_carpet(i, axiom)\n",
    "    drawing(size, angle, res_line)\n",
    "    time2 = t.now()\n",
    "    \n",
    "    print(\"Ковер Серпинского с глубиной = \", i, \"Время построения: \" , \":\", \"{0} ms\".format((time2 - time1).microseconds))\n",
    "\n",
    "turtle.exitonclick()"
   ]
  },
  {
   "cell_type": "code",
   "execution_count": 8,
   "metadata": {},
   "outputs": [
    {
     "name": "stdout",
     "output_type": "stream",
     "text": [
      "Глубина фрактала: 3\n",
      "Дерево Пифагора с глубиной =  0 Время построения:  : 46934 ms\n",
      "Дерево Пифагора с глубиной =  1 Время построения:  : 143869 ms\n",
      "Дерево Пифагора с глубиной =  2 Время построения:  : 409680 ms\n",
      "Дерево Пифагора с глубиной =  3 Время построения:  : 978128 ms\n"
     ]
    }
   ],
   "source": [
    "#Дерево Пифагора\n",
    "\n",
    "turtle.TurtleScreen._RUNNING=True\n",
    "\n",
    "n = int(input('Глубина фрактала: '))\n",
    "size = 10\n",
    "angle = 45\n",
    "axiom = \"0\"\n",
    "rules = {\"1\":\"11\", \"0\":\"1[0]0\"}\n",
    "    \n",
    "def draw_pythagorean_tree(n, axiom):\n",
    "    if n == 0:\n",
    "        return axiom\n",
    "    else:\n",
    "        res_str = \"\"\n",
    "        for i in axiom:\n",
    "            if i == \"[\":\n",
    "                res_str = res_str + \"[\"\n",
    "            elif i == \"]\":\n",
    "                res_str = res_str + \"]\"\n",
    "            else:\n",
    "                res_str = res_str+rules[i]\n",
    "        return draw_pythagorean_tree(n-1, res_str)\n",
    "    \n",
    "for i in range(n+1):\n",
    "    turtle.reset()\n",
    "    turtle.hideturtle()\n",
    "    turtle.color('green')\n",
    "    turtle.width(3)\n",
    "    turtle.speed(0)\n",
    "    turtle.left(90)\n",
    "    turtle.screensize(canvwidth=900, canvheight=900)\n",
    "\n",
    "    time1 = t.now()\n",
    "    res_line = draw_pythagorean_tree(i, axiom)\n",
    "    drawing_pythagorean_tree(size, angle, res_line)\n",
    "    time2 = t.now()\n",
    "    \n",
    "    print(\"Дерево Пифагора с глубиной = \", i, \"Время построения: \" , \":\", \"{0} ms\".format((time2 - time1).microseconds))\n",
    "\n",
    "turtle.exitonclick()"
   ]
  },
  {
   "cell_type": "markdown",
   "metadata": {
    "id": "diOb-K7LnO5a"
   },
   "source": [
    "### Вывод"
   ]
  },
  {
   "cell_type": "markdown",
   "metadata": {},
   "source": [
    "##### В ходе данной лабораторной работы, научились отрисовывать разные фракталы, а так же скорость их построения в зависимости от глубины фрактала"
   ]
  }
 ],
 "metadata": {
  "colab": {
   "collapsed_sections": [],
   "name": "Lab5.ipynb",
   "provenance": []
  },
  "kernelspec": {
   "display_name": "Python 3 (ipykernel)",
   "language": "python",
   "name": "python3"
  },
  "language_info": {
   "codemirror_mode": {
    "name": "ipython",
    "version": 3
   },
   "file_extension": ".py",
   "mimetype": "text/x-python",
   "name": "python",
   "nbconvert_exporter": "python",
   "pygments_lexer": "ipython3",
   "version": "3.9.7"
  }
 },
 "nbformat": 4,
 "nbformat_minor": 1
}
