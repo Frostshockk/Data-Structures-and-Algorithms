{
 "cells": [
  {
   "cell_type": "markdown",
   "id": "db4b50f0",
   "metadata": {},
   "source": [
    "# Лабораторная работа №3\n",
    "## Выполнил студент группы Горохов Кирилл Игоревич БФИ2001"
   ]
  },
  {
   "cell_type": "markdown",
   "id": "annual-symbol",
   "metadata": {},
   "source": [
    "### Оглавление\n",
    "1. [Задание 1](#Задание-№1)\n",
    "2. [Задание 2](#Задание-№2)\n",
    "4. [Вывод](#Вывод)"
   ]
  },
  {
   "cell_type": "markdown",
   "id": "independent-spirit",
   "metadata": {},
   "source": [
    "> Дополнительные модули, использованные при выполнение лабораторной"
   ]
  },
  {
   "cell_type": "code",
   "execution_count": 6,
   "id": "4839be2b",
   "metadata": {},
   "outputs": [],
   "source": [
    "# Необходим при замере скорости выполнения кода\n",
    "from datetime import datetime as t\n",
    "# Нужен для создания словаря в алг. Бойера-Мура\n",
    "from collections import defaultdict"
   ]
  },
  {
   "cell_type": "markdown",
   "id": "inclusive-motorcycle",
   "metadata": {},
   "source": [
    "### Задание №1\n",
    "Реализовать методы поиска подстроки в строке. Добавить возможность ввода строки и подстроки с клавиатуры. Предусмотреть возможность существования пробела. Реализовать возможность выбора опции чувствительности или нечувствительности к регистру. Оценить время работы каждого алгоритма поиска и сравнить его со временем работы стандартной функции поиска, используемой в выбранном языке программирования."
   ]
  },
  {
   "cell_type": "markdown",
   "id": "interracial-communication",
   "metadata": {},
   "source": [
    "#### Алгоритм Кнута-Морриса-Пратта"
   ]
  },
  {
   "cell_type": "code",
   "execution_count": 7,
   "id": "presidential-level",
   "metadata": {},
   "outputs": [
    {
     "name": "stdout",
     "output_type": "stream",
     "text": [
      "\n",
      "Метод Кнута-Морриса-Пратта\n",
      "\n",
      "Исходный текст: HeLLo WorLD!\n",
      "Подстрока: world\n",
      "Учитывать регистр:\n",
      "1-Выкл\n",
      "2-Вкл\n",
      "1\n",
      "[[6, 10]]\n"
     ]
    }
   ],
   "source": [
    "print(\"\\nМетод Кнута-Морриса-Пратта\")\n",
    "\n",
    "def prefixCalc(text, find):\n",
    "    new_text = find + \"#\" + text\n",
    "    prefix = []\n",
    "    for i in range(len(new_text)):\n",
    "        prefix.append(0)\n",
    "    for i in range(1, len(new_text)):\n",
    "        k = prefix[i - 1]\n",
    "        while k > 0 and new_text[k] != new_text[i]:\n",
    "            k = prefix[k - 1]\n",
    "        if new_text[k] == new_text[i]:\n",
    "            k += 1\n",
    "        prefix[i] = k\n",
    "    return prefix\n",
    "\n",
    "def searchKMP(text, find, ignore):\n",
    "    result = []\n",
    "    if ignore:\n",
    "        text=text.lower()\n",
    "        find=find.lower()\n",
    "    prefix = prefixCalc(text, find)\n",
    "    prefix = prefix[len(find) + 1:]\n",
    "    for i in range(len(prefix)):\n",
    "        if prefix[i]==len(find):\n",
    "            result.append([i - len(find) + 1, i])\n",
    "    return result\n",
    "\n",
    "text=input(\"\\nИсходный текст: \")\n",
    "search_str=input(\"Подстрока: \")\n",
    "\n",
    "print(\"Учитывать регистр:\\n1-Выкл\\n2-Вкл\")\n",
    "case=int(input())\n",
    "\n",
    "if(case==1):\n",
    "    result=searchKMP(text,search_str,True)\n",
    "else:\n",
    "    result=searchKMP(text,search_str,False)\n",
    "\n",
    "print(result)"
   ]
  },
  {
   "cell_type": "markdown",
   "id": "downtown-option",
   "metadata": {},
   "source": [
    "#### Упрощенный алгоритм Бойера-Мура"
   ]
  },
  {
   "cell_type": "code",
   "execution_count": 8,
   "id": "respective-reggae",
   "metadata": {},
   "outputs": [
    {
     "name": "stdout",
     "output_type": "stream",
     "text": [
      "\n",
      "Метод Бойера-Мура\n",
      "\n",
      "Исходный текст: HeLLO World\n",
      "Подстрока: HeLLO\n",
      "Учитывать регистр:\n",
      "1-Выкл\n",
      "2-Вкл\n",
      "2\n",
      "[(0, 4)]\n"
     ]
    }
   ],
   "source": [
    "print(\"\\nМетод Бойера-Мура\")\n",
    "def tableCalc(find):\n",
    "    length=len(find)\n",
    "    table = []\n",
    "    for i in range(256):\n",
    "        table.append(length)\n",
    "    for i in range(length - 1):\n",
    "        table[ord(find[i])] = length - 1 - i\n",
    "    return table\n",
    "\n",
    "def searchBM(text, find, ignore):\n",
    "    result = []\n",
    "    nxt = 0\n",
    "    length=len(find)\n",
    "    if ignore:\n",
    "        text=text.lower()\n",
    "        find=find.lower()\n",
    "    table = tableCalc(find)\n",
    "    while len(text) - nxt >= length:\n",
    "        if text[nxt:(nxt + length)] == find:\n",
    "            result.append((nxt, nxt + length - 1))\n",
    "        nxt += table[ord(text[nxt + length - 1])]\n",
    "    return result\n",
    "\n",
    "text=input(\"\\nИсходный текст: \")\n",
    "search_str=input(\"Подстрока: \")\n",
    "\n",
    "print(\"Учитывать регистр:\\n1-Выкл\\n2-Вкл\")\n",
    "case=int(input())\n",
    "\n",
    "if(case==1):\n",
    "    result=searchBM(text,search_str,True)\n",
    "else:\n",
    "    result=searchBM(text,search_str,False)\n",
    "\n",
    "print(result)"
   ]
  },
  {
   "cell_type": "markdown",
   "id": "hybrid-memorial",
   "metadata": {},
   "source": [
    "### Задание №2\n",
    "Написать программу, определяющую, является ли данное\n",
    "расположение «решаемым», то есть можно ли из него за конечное число\n",
    "шагов перейти к правильному. Если это возможно, то необходимо найти хотя\n",
    "бы одно решение - последовательность движений, после которой числа будут\n",
    "расположены в правильном порядке.\n",
    "#### Входные данные: массив чисел, представляющий собой расстановку в\n",
    "Порядке «слева направо, сверху вниз». Число 0 обозначает пустое поле.\n",
    "Например, массив [1, 2, 3, 4, 5, 6, 7, 8, 9, 10, 11, 12, 13, 14, 15, 0] представляет\n",
    "собой «решенную» позицию элементов.\n",
    "#### Выходные данные: если решения нет, то функция должна вернуть\n",
    "Пустой массив []. Если решение есть, то необходимо представить решение —\n",
    "для каждого шага записывается номер передвигаемого на данном шаге\n",
    "элемента. "
   ]
  },
  {
   "cell_type": "code",
   "execution_count": 9,
   "id": "eleven-generic",
   "metadata": {},
   "outputs": [
    {
     "name": "stdout",
     "output_type": "stream",
     "text": [
      "  1  2  3  4\n",
      "  5  6  7  8\n",
      " 13  9 11 12\n",
      " 10 14 15  0\n",
      "\n",
      "[15, 14, 10, 13, 9, 10, 14, 15]\n",
      "  1  2  3  4\n",
      "  5  6  7  8\n",
      "  9 10 11 12\n",
      " 13 14 15  0\n"
     ]
    }
   ],
   "source": [
    "class Position:\n",
    "    def __init__(self, position, start_distance,finish_distance):\n",
    "        self.position = position\n",
    "        self.start_distance = start_distance\n",
    "        self.finish_distance = finish_distance\n",
    "\n",
    "    def __str__(self):\n",
    "        return '\\n'.join((N*'{:3}').format(*[i%(N*N) for i in self.position[i:]]) for i in range(0, N*N, N))\n",
    "    def __lt__(self, other):\n",
    "        return self.start_distance+self.finish_distance < other.start_distance+other.finish_distance\n",
    "\n",
    "from queue import PriorityQueue\n",
    "\n",
    "N = 4\n",
    "def shifts(position):\n",
    "    zeroPosition = position.index(0)\n",
    "# Search in 4х4 field\n",
    "    i, j = divmod(zeroPosition, N)    \n",
    "    displacement = []\n",
    "    if i > 0: displacement.append(-N)     # up\n",
    "    if i < N - 1: displacement.append(N)  # down\n",
    "    if j > 0: displacement.append(-1)     # left\n",
    "    if j < N - 1: displacement.append(1)  # right\n",
    "    for offset in displacement:\n",
    "        swap = zeroPosition + offset\n",
    "# New state of field. 0 swaped his position\n",
    "        yield tuple(position[swap] if x==zeroPosition else position[zeroPosition] if x==swap else position[x] for x in range(N*N))\n",
    "\n",
    "def parityOfPairs(state):\n",
    "    countOfPairs = 0\n",
    "    for i in range(len(state)-1):\n",
    "        if state[i] > state[i+1]:\n",
    "            countOfPairs +=1\n",
    "    return countOfPairs % 2\n",
    "\n",
    "def fifteenGame(startState):\n",
    "    terminalState = (1, 2, 3, 4, 5, 6, 7, 8, 9, 10, 11, 12, 13, 14, 15, 0)\n",
    "    if parityOfPairs(startState)==0:\n",
    "        print(\"Нет решений\")\n",
    "    else:\n",
    "        startState= tuple(startState)\n",
    "        p = Position(startState, 0,0)\n",
    "        print(p)\n",
    "        print()\n",
    "\n",
    "        fieldStates= PriorityQueue()\n",
    "        fieldStates.put(p)\n",
    "        closePoints = set([p])\n",
    "        parents = {p.position: None}\n",
    "   \n",
    "        while p.position != terminalState:\n",
    "            p =fieldStates.get()\n",
    "\n",
    "            for k in shifts(p.position):\n",
    "                count= 0\n",
    "                if k not in closePoints:\n",
    "                    for m in range(len(k)):\n",
    "                        if k[m] != terminalState[m]:\n",
    "                            count+=1\n",
    "                    fieldStates.put(Position(k, p.start_distance +1,p.finish_distance+count))\n",
    "                    parents[k] = p\n",
    "                    closePoints.add(k)\n",
    "\n",
    "\n",
    "        path = []\n",
    "        x = p\n",
    "        previous = p\n",
    "        while p.position != startState:\n",
    "            p = parents[p.position]\n",
    "            number = p.position[previous.position.index(0)]\n",
    "            path.append(number)\n",
    "            previous = p\n",
    "        path.reverse()\n",
    "\n",
    "        print(path)\n",
    "        print(x)\n",
    "startState = [1, 2, 3, 4, 5, 6, 7, 8, 13, 9,11,12,10,14,15,0]\n",
    "fifteenGame(startState)"
   ]
  },
  {
   "cell_type": "markdown",
   "id": "arbitrary-amazon",
   "metadata": {},
   "source": [
    "### Вывод"
   ]
  },
  {
   "cell_type": "markdown",
   "id": "71bc58bf",
   "metadata": {},
   "source": [
    "В ходе данной лабораторной работы, мы познакомились с алгоритмами поиска подстроки в строке, а именно алгоритмами:\n",
    "1)Кнута-Морриса-Пратта\n",
    "2)Упрощенный алгоритм Бойера-Мура"
   ]
  }
 ],
 "metadata": {
  "kernelspec": {
   "display_name": "Python 3 (ipykernel)",
   "language": "python",
   "name": "python3"
  },
  "language_info": {
   "codemirror_mode": {
    "name": "ipython",
    "version": 3
   },
   "file_extension": ".py",
   "mimetype": "text/x-python",
   "name": "python",
   "nbconvert_exporter": "python",
   "pygments_lexer": "ipython3",
   "version": "3.9.7"
  }
 },
 "nbformat": 4,
 "nbformat_minor": 5
}
